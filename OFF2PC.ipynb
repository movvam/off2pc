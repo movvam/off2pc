{
 "cells": [
  {
   "cell_type": "code",
   "execution_count": 1,
   "metadata": {},
   "outputs": [],
   "source": [
    "from face import Face\n",
    "\n",
    "f = open('bed_0001.off', 'r')\n",
    "\n",
    "#read in starting file data\n",
    "f.readline()\n",
    "num_vertices, num_faces, _ = list(map(int,(f.readline().split(\" \"))))\n"
   ]
  },
  {
   "cell_type": "code",
   "execution_count": 2,
   "metadata": {},
   "outputs": [],
   "source": [
    "# ---------------------------\n",
    "# make a list of the vertices\n",
    "# ---------------------------\n",
    "\n",
    "vertex_list = []\n",
    "# populate vertex_list\n",
    "for i in range(num_vertices):\n",
    "   point = tuple(map(float,(f.readline()).split(\" \")))\n",
    "   vertex_list.append(point)\n",
    "    "
   ]
  },
  {
   "cell_type": "code",
   "execution_count": 3,
   "metadata": {},
   "outputs": [],
   "source": [
    "# ---------------------------\n",
    "# make a list of face objects\n",
    "# calculate face & total area\n",
    "# ---------------------------\n",
    "\n",
    "\n",
    "total_area = 0\n",
    "face_list = []\n",
    "\n",
    "# populate face_list\n",
    "for i in range(num_faces):\n",
    "   _, v1, v2, v3 = list(map(int,(f.readline()).split(\" \")))\n",
    "   face = Face(vertex_list[v1], vertex_list[v2], vertex_list[v3])\n",
    "   face_list.append(face)\n",
    "   total_area += face.area\n",
    "\n",
    "# test_face = Face((1,2,3), (2,1,0), (4,6,-2)) # test face\n",
    "# face_list.append(test_face)\n",
    "\n",
    "#calculate the portion of the total area that each face is\n",
    "for i in face_list:\n",
    "   i.portion = (i.area / total_area)\n",
    "   \n",
    "f.close()"
   ]
  },
  {
   "cell_type": "code",
   "execution_count": null,
   "metadata": {},
   "outputs": [],
   "source": []
  },
  {
   "cell_type": "code",
   "execution_count": null,
   "metadata": {},
   "outputs": [],
   "source": []
  }
 ],
 "metadata": {
  "kernelspec": {
   "display_name": "Python 3",
   "language": "python",
   "name": "python3"
  },
  "language_info": {
   "codemirror_mode": {
    "name": "ipython",
    "version": 3
   },
   "file_extension": ".py",
   "mimetype": "text/x-python",
   "name": "python",
   "nbconvert_exporter": "python",
   "pygments_lexer": "ipython3",
   "version": "3.6.3"
  }
 },
 "nbformat": 4,
 "nbformat_minor": 2
}
